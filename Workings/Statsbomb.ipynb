{
 "cells": [
  {
   "cell_type": "code",
   "execution_count": 2,
   "metadata": {},
   "outputs": [],
   "source": [
    "import pandas as pd \n",
    "import matplotlib.pyplot as plt\n",
    "import sqlite3\n",
    "import seaborn as sns\n",
    "from statsbombpy import sb"
   ]
  },
  {
   "cell_type": "code",
   "execution_count": null,
   "metadata": {},
   "outputs": [],
   "source": [
    "comps = sb.competitions()\n",
    "comps = comps[comps['competition_gender'] == 'male']"
   ]
  },
  {
   "cell_type": "code",
   "execution_count": null,
   "metadata": {},
   "outputs": [],
   "source": [
    "comp_ids = comps['competition_id'].tolist()\n",
    "season_ids = comps['season_id'].tolist()\n",
    "matches = []\n",
    "for i in range(len(comp_ids)):\n",
    "    try:\n",
    "        tmp = sb.matches(competition_id=comp_ids[i],season_id=season_ids[i])\n",
    "        for idx, row in tmp.iterrows():\n",
    "            if ('Barcelona' in row['home_team']) or ('Barcelona' in row['away_team']):\n",
    "                matches.append(row['match_id'])\n",
    "    except:\n",
    "        print('No Data Found',comp_ids[i],season_ids[i])"
   ]
  },
  {
   "cell_type": "code",
   "execution_count": null,
   "metadata": {},
   "outputs": [],
   "source": [
    "[['period','timestamp','minute','second','play_pattern','location','team','player','shot_type','shot_body_part','play_pattern','shot_outcome','shot_statsbomb_xg']]"
   ]
  },
  {
   "cell_type": "code",
   "execution_count": null,
   "metadata": {},
   "outputs": [],
   "source": [
    "all_shots = pd.DataFrame()\n",
    "for match in matches:\n",
    "    events = sb.events(match_id=match)\n",
    "    events = events[(events['type']=='Shot') & (events['player']=='Lionel Andrés Messi Cuccittini')]\n",
    "    all_shots = pd.concat([all_shots,events])\n"
   ]
  },
  {
   "cell_type": "code",
   "execution_count": 160,
   "metadata": {},
   "outputs": [],
   "source": [
    "all_shots.to_csv('messi_raw.csv',index=False)"
   ]
  },
  {
   "cell_type": "code",
   "execution_count": 159,
   "metadata": {},
   "outputs": [],
   "source": [
    "all_shots.dropna(axis=1,how='all').dropna(axis=0,how='all').to_csv('messi.csv')"
   ]
  },
  {
   "cell_type": "code",
   "execution_count": 21,
   "metadata": {},
   "outputs": [],
   "source": [
    "df = pd.read_csv('Data/messi.csv',index_col=0)\n"
   ]
  },
  {
   "cell_type": "code",
   "execution_count": null,
   "metadata": {},
   "outputs": [],
   "source": [
    "comp_ids = comps['competition_id'].tolist()\n",
    "season_ids = comps['season_id'].tolist()\n",
    "matches = pd.DataFrame()\n",
    "for i in range(len(comp_ids)):\n",
    "    try:\n",
    "        tmp = sb.matches(competition_id=comp_ids[i],season_id=season_ids[i])\n",
    "        for idx, row in tmp.iterrows():\n",
    "            if ('Barcelona' in row['home_team']) or ('Barcelona' in row['away_team']):\n",
    "                test = pd.DataFrame(row[['match_id','match_date','competition','season']]).T\n",
    "                matches = pd.concat([matches,test])\n",
    "    except:\n",
    "        print('No Data Found',comp_ids[i],season_ids[i])"
   ]
  },
  {
   "cell_type": "code",
   "execution_count": 22,
   "metadata": {},
   "outputs": [],
   "source": [
    "df = df.merge(matches,how='left',on='match_id')"
   ]
  },
  {
   "cell_type": "code",
   "execution_count": 23,
   "metadata": {},
   "outputs": [],
   "source": [
    "cols = ['location','minute','period','play_pattern','player','second','shot_outcome','shot_body_part','shot_statsbomb_xg','shot_type','competition','season']\n",
    "goals = df[df['shot_outcome']=='Goal'][cols]\n",
    "goals['player'] = player"
   ]
  },
  {
   "cell_type": "code",
   "execution_count": 24,
   "metadata": {},
   "outputs": [],
   "source": [
    "def change_situation(series):\n",
    "    lst = []\n",
    "    for x in series:\n",
    "        if x == 'Other':\n",
    "            lst.append('Penalty')\n",
    "        elif x =='From Corner':\n",
    "            lst.append('Corner')\n",
    "        elif x ==  'From Free Kick':\n",
    "            lst.append('Free Kick')\n",
    "        else:\n",
    "            lst.append('Open Play')\n",
    "            \n",
    "    return lst\n",
    "goals['play_pattern'] = change_situation(goals['play_pattern'])\n"
   ]
  },
  {
   "cell_type": "code",
   "execution_count": 28,
   "metadata": {},
   "outputs": [],
   "source": [
    "goals['season'] = goals['season'].apply(lambda x: x[:4] + '-'+ x[-2:])"
   ]
  },
  {
   "cell_type": "code",
   "execution_count": 29,
   "metadata": {},
   "outputs": [],
   "source": [
    "goals['x']= goals['location'].apply(lambda x: x.split(',')[0][1:])\n",
    "goals['y'] = goals['location'].apply(lambda x: x.split(',')[1][:-1])\n",
    "goals.drop('location',axis=1,inplace=True)"
   ]
  },
  {
   "cell_type": "code",
   "execution_count": 30,
   "metadata": {},
   "outputs": [],
   "source": [
    "goals.drop(['period','second'],axis=1 ,inplace=True)"
   ]
  },
  {
   "cell_type": "code",
   "execution_count": 31,
   "metadata": {},
   "outputs": [],
   "source": [
    "goals.drop('shot_type',axis=1,inplace=True)"
   ]
  },
  {
   "cell_type": "code",
   "execution_count": 32,
   "metadata": {},
   "outputs": [],
   "source": [
    "goals.columns = ['minute','situation','player','result','shotType','xG','league','season','X','Y']"
   ]
  },
  {
   "cell_type": "code",
   "execution_count": 33,
   "metadata": {},
   "outputs": [],
   "source": [
    "player = 'Lionel Messi'\n",
    "conn = sqlite3.connect(r\"soccer_data.db\")\n",
    "query = f\"\"\"\n",
    "SELECT \n",
    "minute,result,X,Y,xG,player,shotType,situation,season,league\n",
    "FROM \n",
    "Shots_Data \n",
    "WHERE player = \"{player}\"\n",
    "AND season = \"2021-22\"\n",
    "AND result ='Goal'\n",
    "\"\"\"\n",
    "\n",
    "psg = pd.read_sql(query,conn)\n",
    "psg['league'] = 'France - Ligue 1'"
   ]
  },
  {
   "cell_type": "code",
   "execution_count": 34,
   "metadata": {},
   "outputs": [],
   "source": [
    "psg['shotType'] = 'Left Foot'\n",
    "psg['situation'] = 'Open Play'"
   ]
  },
  {
   "cell_type": "code",
   "execution_count": 35,
   "metadata": {},
   "outputs": [],
   "source": [
    "pd.concat([goals,psg]).reset_index(drop=True).to_csv('Data/messi_cleaned.csv',index=False)"
   ]
  },
  {
   "cell_type": "code",
   "execution_count": null,
   "metadata": {},
   "outputs": [],
   "source": []
  }
 ],
 "metadata": {
  "kernelspec": {
   "display_name": "sports",
   "language": "python",
   "name": "python3"
  },
  "language_info": {
   "codemirror_mode": {
    "name": "ipython",
    "version": 3
   },
   "file_extension": ".py",
   "mimetype": "text/x-python",
   "name": "python",
   "nbconvert_exporter": "python",
   "pygments_lexer": "ipython3",
   "version": "3.9.15 (main, Nov  4 2022, 11:11:31) \n[Clang 12.0.0 ]"
  },
  "orig_nbformat": 4,
  "vscode": {
   "interpreter": {
    "hash": "ec142a6a42d37bb51ddd41d81bbd8744c33749e62da99fedbc872fac0e9f4b71"
   }
  }
 },
 "nbformat": 4,
 "nbformat_minor": 2
}
