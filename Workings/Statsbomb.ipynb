{
 "cells": [
  {
   "cell_type": "code",
   "execution_count": 2,
   "metadata": {},
   "outputs": [],
   "source": [
    "import pandas as pd \n",
    "import matplotlib.pyplot as plt\n",
    "import sqlite3\n",
    "import seaborn as sns\n",
    "from statsbombpy import sb"
   ]
  },
  {
   "cell_type": "code",
   "execution_count": 5,
   "metadata": {},
   "outputs": [
    {
     "name": "stderr",
     "output_type": "stream",
     "text": [
      "C:\\Users\\limwe\\anaconda3\\envs\\sports\\lib\\site-packages\\statsbombpy\\api_client.py:20: NoAuthWarning: credentials were not supplied. open data access only\n",
      "  warnings.warn(\"credentials were not supplied. open data access only\", NoAuthWarning)\n"
     ]
    }
   ],
   "source": [
    "comps = sb.competitions()\n",
    "comps = comps[comps['competition_gender'] == 'male']"
   ]
  },
  {
   "cell_type": "code",
   "execution_count": null,
   "metadata": {},
   "outputs": [],
   "source": [
    "comp_ids = comps['competition_id'].tolist()\n",
    "season_ids = comps['season_id'].tolist()\n",
    "matches = []\n",
    "for i in range(len(comp_ids)):\n",
    "    try:\n",
    "        tmp = sb.matches(competition_id=comp_ids[i],season_id=season_ids[i])\n",
    "        for idx, row in tmp.iterrows():\n",
    "            if ('Barcelona' in row['home_team']) or ('Barcelona' in row['away_team']):\n",
    "                matches.append(row['match_id'])\n",
    "    except:\n",
    "        print('No Data Found',comp_ids[i],season_ids[i])"
   ]
  },
  {
   "cell_type": "code",
   "execution_count": null,
   "metadata": {},
   "outputs": [],
   "source": [
    "[['period','timestamp','minute','second','play_pattern','location','team','player','shot_type','shot_body_part','play_pattern','shot_outcome','shot_statsbomb_xg']]"
   ]
  },
  {
   "cell_type": "code",
   "execution_count": null,
   "metadata": {},
   "outputs": [],
   "source": [
    "all_shots = pd.DataFrame()\n",
    "for match in matches:\n",
    "    events = sb.events(match_id=match)\n",
    "    events = events[(events['type']=='Shot') & (events['player']=='Lionel Andrés Messi Cuccittini')]\n",
    "    all_shots = pd.concat([all_shots,events])\n"
   ]
  },
  {
   "cell_type": "code",
   "execution_count": 160,
   "metadata": {},
   "outputs": [],
   "source": [
    "all_shots.to_csv('messi_raw.csv',index=False)"
   ]
  },
  {
   "cell_type": "code",
   "execution_count": 159,
   "metadata": {},
   "outputs": [],
   "source": [
    "all_shots.dropna(axis=1,how='all').dropna(axis=0,how='all').to_csv('messi.csv')"
   ]
  },
  {
   "cell_type": "code",
   "execution_count": 21,
   "metadata": {},
   "outputs": [],
   "source": [
    "df = pd.read_csv('Data/messi.csv',index_col=0)\n"
   ]
  },
  {
   "cell_type": "code",
   "execution_count": null,
   "metadata": {},
   "outputs": [],
   "source": [
    "comp_ids = comps['competition_id'].tolist()\n",
    "season_ids = comps['season_id'].tolist()\n",
    "matches = pd.DataFrame()\n",
    "for i in range(len(comp_ids)):\n",
    "    try:\n",
    "        tmp = sb.matches(competition_id=comp_ids[i],season_id=season_ids[i])\n",
    "        for idx, row in tmp.iterrows():\n",
    "            if ('Barcelona' in row['home_team']) or ('Barcelona' in row['away_team']):\n",
    "                test = pd.DataFrame(row[['match_id','match_date','competition','season']]).T\n",
    "                matches = pd.concat([matches,test])\n",
    "    except:\n",
    "        print('No Data Found',comp_ids[i],season_ids[i])"
   ]
  },
  {
   "cell_type": "code",
   "execution_count": 22,
   "metadata": {},
   "outputs": [],
   "source": [
    "df = df.merge(matches,how='left',on='match_id')"
   ]
  },
  {
   "cell_type": "code",
   "execution_count": 23,
   "metadata": {},
   "outputs": [],
   "source": [
    "cols = ['location','minute','period','play_pattern','player','second','shot_outcome','shot_body_part','shot_statsbomb_xg','shot_type','competition','season']\n",
    "goals = df[df['shot_outcome']=='Goal'][cols]\n",
    "goals['player'] = player"
   ]
  },
  {
   "cell_type": "code",
   "execution_count": 24,
   "metadata": {},
   "outputs": [],
   "source": [
    "def change_situation(series):\n",
    "    lst = []\n",
    "    for x in series:\n",
    "        if x == 'Other':\n",
    "            lst.append('Penalty')\n",
    "        elif x =='From Corner':\n",
    "            lst.append('Corner')\n",
    "        elif x ==  'From Free Kick':\n",
    "            lst.append('Free Kick')\n",
    "        else:\n",
    "            lst.append('Open Play')\n",
    "            \n",
    "    return lst\n",
    "goals['play_pattern'] = change_situation(goals['play_pattern'])\n"
   ]
  },
  {
   "cell_type": "code",
   "execution_count": 28,
   "metadata": {},
   "outputs": [],
   "source": [
    "goals['season'] = goals['season'].apply(lambda x: x[:4] + '-'+ x[-2:])"
   ]
  },
  {
   "cell_type": "code",
   "execution_count": 29,
   "metadata": {},
   "outputs": [],
   "source": [
    "goals['x']= goals['location'].apply(lambda x: x.split(',')[0][1:])\n",
    "goals['y'] = goals['location'].apply(lambda x: x.split(',')[1][:-1])\n",
    "goals.drop('location',axis=1,inplace=True)"
   ]
  },
  {
   "cell_type": "code",
   "execution_count": 30,
   "metadata": {},
   "outputs": [],
   "source": [
    "goals.drop(['period','second'],axis=1 ,inplace=True)"
   ]
  },
  {
   "cell_type": "code",
   "execution_count": 31,
   "metadata": {},
   "outputs": [],
   "source": [
    "goals.drop('shot_type',axis=1,inplace=True)"
   ]
  },
  {
   "cell_type": "code",
   "execution_count": 125,
   "metadata": {},
   "outputs": [
    {
     "data": {
      "text/html": [
       "<div>\n",
       "<style scoped>\n",
       "    .dataframe tbody tr th:only-of-type {\n",
       "        vertical-align: middle;\n",
       "    }\n",
       "\n",
       "    .dataframe tbody tr th {\n",
       "        vertical-align: top;\n",
       "    }\n",
       "\n",
       "    .dataframe thead th {\n",
       "        text-align: right;\n",
       "    }\n",
       "</style>\n",
       "<table border=\"1\" class=\"dataframe\">\n",
       "  <thead>\n",
       "    <tr style=\"text-align: right;\">\n",
       "      <th></th>\n",
       "      <th>minute</th>\n",
       "      <th>play_pattern</th>\n",
       "      <th>player</th>\n",
       "      <th>shot_outcome</th>\n",
       "      <th>shot_body_part</th>\n",
       "      <th>shot_statsbomb_xg</th>\n",
       "      <th>competition</th>\n",
       "      <th>season</th>\n",
       "      <th>x</th>\n",
       "      <th>y</th>\n",
       "    </tr>\n",
       "  </thead>\n",
       "  <tbody>\n",
       "    <tr>\n",
       "      <th>5</th>\n",
       "      <td>53</td>\n",
       "      <td>Penalty</td>\n",
       "      <td>Lionel Messi</td>\n",
       "      <td>Goal</td>\n",
       "      <td>Left Foot</td>\n",
       "      <td>0.023384</td>\n",
       "      <td>Europe - Champions League</td>\n",
       "      <td>2010-11</td>\n",
       "      <td>94.0</td>\n",
       "      <td>43.0</td>\n",
       "    </tr>\n",
       "    <tr>\n",
       "      <th>9</th>\n",
       "      <td>69</td>\n",
       "      <td>Penalty</td>\n",
       "      <td>Lionel Messi</td>\n",
       "      <td>Goal</td>\n",
       "      <td>Head</td>\n",
       "      <td>0.328108</td>\n",
       "      <td>Europe - Champions League</td>\n",
       "      <td>2008-09</td>\n",
       "      <td>113.8</td>\n",
       "      <td>36.9</td>\n",
       "    </tr>\n",
       "    <tr>\n",
       "      <th>10</th>\n",
       "      <td>12</td>\n",
       "      <td>Open Play</td>\n",
       "      <td>Lionel Messi</td>\n",
       "      <td>Goal</td>\n",
       "      <td>Left Foot</td>\n",
       "      <td>0.041210</td>\n",
       "      <td>Spain - La Liga</td>\n",
       "      <td>2020-21</td>\n",
       "      <td>99.4</td>\n",
       "      <td>33.0</td>\n",
       "    </tr>\n",
       "    <tr>\n",
       "      <th>15</th>\n",
       "      <td>89</td>\n",
       "      <td>Free Kick</td>\n",
       "      <td>Lionel Messi</td>\n",
       "      <td>Goal</td>\n",
       "      <td>Left Foot</td>\n",
       "      <td>0.030420</td>\n",
       "      <td>Spain - La Liga</td>\n",
       "      <td>2020-21</td>\n",
       "      <td>94.6</td>\n",
       "      <td>47.5</td>\n",
       "    </tr>\n",
       "    <tr>\n",
       "      <th>17</th>\n",
       "      <td>25</td>\n",
       "      <td>Open Play</td>\n",
       "      <td>Lionel Messi</td>\n",
       "      <td>Goal</td>\n",
       "      <td>Left Foot</td>\n",
       "      <td>0.179545</td>\n",
       "      <td>Spain - La Liga</td>\n",
       "      <td>2020-21</td>\n",
       "      <td>106.1</td>\n",
       "      <td>44.8</td>\n",
       "    </tr>\n",
       "  </tbody>\n",
       "</table>\n",
       "</div>"
      ],
      "text/plain": [
       "    minute play_pattern        player shot_outcome shot_body_part  \\\n",
       "5       53      Penalty  Lionel Messi         Goal      Left Foot   \n",
       "9       69      Penalty  Lionel Messi         Goal           Head   \n",
       "10      12    Open Play  Lionel Messi         Goal      Left Foot   \n",
       "15      89    Free Kick  Lionel Messi         Goal      Left Foot   \n",
       "17      25    Open Play  Lionel Messi         Goal      Left Foot   \n",
       "\n",
       "    shot_statsbomb_xg                competition   season      x      y  \n",
       "5            0.023384  Europe - Champions League  2010-11   94.0   43.0  \n",
       "9            0.328108  Europe - Champions League  2008-09  113.8   36.9  \n",
       "10           0.041210            Spain - La Liga  2020-21   99.4   33.0  \n",
       "15           0.030420            Spain - La Liga  2020-21   94.6   47.5  \n",
       "17           0.179545            Spain - La Liga  2020-21  106.1   44.8  "
      ]
     },
     "execution_count": 125,
     "metadata": {},
     "output_type": "execute_result"
    }
   ],
   "source": [
    "goals.head()"
   ]
  },
  {
   "cell_type": "code",
   "execution_count": 32,
   "metadata": {},
   "outputs": [],
   "source": [
    "goals.columns = ['minute','situation','player','result','shotType','xG','league','season','X','Y']"
   ]
  },
  {
   "cell_type": "code",
   "execution_count": 33,
   "metadata": {},
   "outputs": [],
   "source": [
    "player = 'Lionel Messi'\n",
    "conn = sqlite3.connect(r\"C:\\Users\\limwe\\OneDrive\\Documents\\Computing Projects\\Sports Analytics\\Data\\soccer_data.db\")\n",
    "query = f\"\"\"\n",
    "SELECT \n",
    "minute,result,X,Y,xG,player,shotType,situation,season,league\n",
    "FROM \n",
    "Shots_Data \n",
    "WHERE player = \"{player}\"\n",
    "AND season = \"2021-22\"\n",
    "AND result ='Goal'\n",
    "\"\"\"\n",
    "\n",
    "psg = pd.read_sql(query,conn)\n",
    "psg['league'] = 'France - Ligue 1'"
   ]
  },
  {
   "cell_type": "code",
   "execution_count": 34,
   "metadata": {},
   "outputs": [],
   "source": [
    "psg['shotType'] = 'Left Foot'\n",
    "psg['situation'] = 'Open Play'"
   ]
  },
  {
   "cell_type": "code",
   "execution_count": 35,
   "metadata": {},
   "outputs": [],
   "source": [
    "pd.concat([goals,psg]).reset_index(drop=True).to_csv('Data/messi_cleaned.csv',index=False)"
   ]
  },
  {
   "cell_type": "code",
   "execution_count": null,
   "metadata": {},
   "outputs": [],
   "source": []
  }
 ],
 "metadata": {
  "interpreter": {
   "hash": "0013bfa180d8f2073813a11c26de2c2260168e93abedd0fce5e1f82afdda5447"
  },
  "kernelspec": {
   "display_name": "Python 3.10.4 ('sports')",
   "language": "python",
   "name": "python3"
  },
  "language_info": {
   "codemirror_mode": {
    "name": "ipython",
    "version": 3
   },
   "file_extension": ".py",
   "mimetype": "text/x-python",
   "name": "python",
   "nbconvert_exporter": "python",
   "pygments_lexer": "ipython3",
   "version": "3.10.4"
  },
  "orig_nbformat": 4
 },
 "nbformat": 4,
 "nbformat_minor": 2
}
