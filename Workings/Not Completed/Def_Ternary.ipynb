{
 "cells": [
  {
   "cell_type": "markdown",
   "metadata": {},
   "source": [
    "## Defensive Attributes \n",
    "- Defensive Ability: Tackle % (Tackles_Won/Tackles), Dribblers_Tackled_Successfully_Percent, Successful_Pressures_Percent, Shots_Blocked/Total_Shots /90, Interceptions/(Passes Attempted Against)/90, Reliability (1/errors/touches in def 3rd)\n",
    "- Build-Up Value: xA_per_90, Pass_Completion_Percent, Completed_Passes_into_Att_Third, Total_Pass_Progressive_Distance /90, Passes_Made_Under_Pressure, Shot_Creating_Actions_per_90, Successful_Dribbles_Percent, Progressive_Distance_of_Carries/90\n",
    "- Aerial Ability:  Aerial_Duels_Won_Percent,Aerial_Duels_Won + Aerial_Duels_Lost, Passes_Made_With_Head/90, xG_Per_90\n",
    "\n",
    "All metrics make use of minutes (nineties played )"
   ]
  },
  {
   "cell_type": "code",
   "execution_count": 1,
   "metadata": {},
   "outputs": [],
   "source": [
    "import pandas as pd \n",
    "import matplotlib.pyplot as plt \n",
    "import ternary \n",
    "import sqlite3\n",
    "import functools as ft\n",
    "import math\n",
    "from adjustText import adjust_text\n",
    "from matplotlib.transforms import Affine2D\n",
    "import mpl_toolkits.axisartist.floating_axes as floating_axes\n",
    "import matplotlib.patches as patches\n",
    "pd.options.mode.chained_assignment = None  # default='warn'"
   ]
  },
  {
   "cell_type": "code",
   "execution_count": 2,
   "metadata": {},
   "outputs": [],
   "source": [
    "conn = sqlite3.connect(r\"C:\\Users\\limwe\\OneDrive\\Documents\\Computing Projects\\Sports Analytics\\Data\\soccer_data.db\")"
   ]
  },
  {
   "cell_type": "code",
   "execution_count": 3,
   "metadata": {},
   "outputs": [],
   "source": [
    "positions = pd.read_csv(r\"C:\\Users\\limwe\\OneDrive\\Documents\\Computing Projects\\Sports Analytics\\Data\\Transfermarket\\positions.csv\")\n",
    "positions = positions[positions['Position'] == 'Centre-Back']['Player'].tolist()\n",
    "player_lst= pd.read_sql(\"Select Player from Players_Data WHERE Position ='DF' AND Competition_Name ='Premier League' AND Minutes_Played > 1000\",conn)['Player'].to_list()\n",
    "player_lst = tuple([x for x in player_lst if x in positions])"
   ]
  },
  {
   "cell_type": "code",
   "execution_count": 8,
   "metadata": {},
   "outputs": [],
   "source": [
    "query = f\"SELECT Player,Squad ,Nineties, Tackles_Won, Tackles, Dribblers_Tackled_Successfully_Percent, Successful_Pressures_Percent, Shots_Blocked,Interceptions FROM Players_Data WHERE player in{player_lst}\"\n",
    "player = pd.read_sql(query,conn)\n",
    "player = player[player['Nineties'] > 20]\n",
    "against = pd.read_sql(f\"SELECT Squad, Matches_Played ,Total_Shots, Passes_Attempted from Against_Squad_Data WHERE Squad in {tuple(player['Squad'].tolist())} \",conn)\n",
    "against.columns = ['Squad_Against','Matches_Played','Total_Shots_Against','Passes_Attempted_Against']\n",
    "player = pd.merge(player,against, how='left',left_on='Squad',right_on='Squad_Against')\n",
    "working_df = player[['Player','Squad' ,'Nineties','Dribblers_Tackled_Successfully_Percent','Successful_Pressures_Percent']]\n",
    "working_df['Tackle %'] = player['Tackles_Won']/player['Tackles'] * 100\n",
    "working_df['Blocked%'] = (player['Shots_Blocked']/player['Nineties']) / (player['Total_Shots_Against']/player['Matches_Played'])*100\n",
    "working_df['Interceptions %'] = (player['Interceptions']/player['Nineties'])/(player['Passes_Attempted_Against']/player['Matches_Played'])*100\n",
    "final = player[['Player','Squad']]\n",
    "cols = working_df.columns[2:].to_list()\n",
    "for col in cols:\n",
    "    final[col]= (working_df[col]-working_df[col].mean())/working_df[col].std(ddof=0)\n",
    "    final[col] = (final[col]-final[col].min())/(final[col].max()-final[col].min()) * 100\n",
    "final['Def'] = final['Dribblers_Tackled_Successfully_Percent'] *0.25 + final['Tackle %'] * 0.25 + final['Successful_Pressures_Percent'] *0.15 + final['Blocked%'] *0.1  + final['Interceptions %'] * 0.1 + final['Nineties']*0.10\n",
    "final['Def'] = final['Def'].rank(pct=True)*100\n",
    "present = final[['Player','Squad','Def']]"
   ]
  },
  {
   "cell_type": "code",
   "execution_count": 4,
   "metadata": {},
   "outputs": [],
   "source": [
    "def get_defensive_ability(player_lst):\n",
    "    query = f\"SELECT Player,Squad ,Nineties, Tackles_Won, Tackles, Dribblers_Tackled_Successfully_Percent, Successful_Pressures_Percent, Shots_Blocked,Interceptions FROM Players_Data WHERE player in{player_lst}\"\n",
    "    player = pd.read_sql(query,conn)\n",
    "    player = player[player['Nineties'] > 20]\n",
    "    against = pd.read_sql(f\"SELECT Squad, Matches_Played ,Total_Shots, Passes_Attempted from Against_Squad_Data WHERE Squad in {tuple(player['Squad'].tolist())} \",conn)\n",
    "    against.columns = ['Squad_Against','Matches_Played','Total_Shots_Against','Passes_Attempted_Against']\n",
    "    player = pd.merge(player,against, how='left',left_on='Squad',right_on='Squad_Against')\n",
    "    working_df = player[['Player','Squad' ,'Nineties','Dribblers_Tackled_Successfully_Percent','Successful_Pressures_Percent']]\n",
    "    working_df['Tackle %'] = player['Tackles_Won']/player['Tackles'] * 100\n",
    "    working_df['Blocked%'] = (player['Shots_Blocked']/player['Nineties']) / (player['Total_Shots_Against']/player['Matches_Played'])*100\n",
    "    working_df['Interceptions %'] = (player['Interceptions']/player['Nineties'])/(player['Passes_Attempted_Against']/player['Matches_Played'])*100\n",
    "    final = player[['Player','Squad']]\n",
    "    cols = working_df.columns[2:].to_list()\n",
    "    for col in cols:\n",
    "        final[col]= (working_df[col]-working_df[col].mean())/working_df[col].std(ddof=0)\n",
    "        final[col] = (final[col]-final[col].min())/(final[col].max()-final[col].min()) * 100\n",
    "    final['Def'] = final['Dribblers_Tackled_Successfully_Percent'] *0.25 + final['Tackle %'] * 0.25 + final['Successful_Pressures_Percent'] *0.15 + final['Blocked%'] *0.1  + final['Interceptions %'] * 0.1 + final['Nineties']*0.10\n",
    "    final['Def'] = final['Def'].rank(pct=True)*100\n",
    "    present = final[['Player','Squad','Def']]\n",
    "    return present"
   ]
  },
  {
   "cell_type": "code",
   "execution_count": 11,
   "metadata": {},
   "outputs": [],
   "source": [
    "def get_bpa(player_lst):\n",
    "    query = f\"SELECT Player,Squad ,Nineties, xA_per_90, Pass_Completion_Percent, Completed_Passes_into_Att_Third, Total_Pass_Progressive_Distance, Passes_Made_Under_Pressure, Shot_Creating_Actions_per_90, Successful_Dribbles_Percent, Progressive_Distance_of_Carries FROM Players_Data WHERE player in{player_lst}\"\n",
    "    player = pd.read_sql(query,conn)\n",
    "    player = player[player['Nineties'] > 20]\n",
    "    player['Total_Pass_Progressive_Distance_per_90'] = player['Total_Pass_Progressive_Distance']/player['Nineties']\n",
    "    player['Progressive_Distance_of_Carries_per_90'] = player['Progressive_Distance_of_Carries']/player['Nineties']\n",
    "    player.drop(['Total_Pass_Progressive_Distance','Progressive_Distance_of_Carries'],axis=1,inplace=True)\n",
    "    player['Completed_Passes_into_Att_Third_90'] = player['Completed_Passes_into_Att_Third']/player['Nineties']\n",
    "    player['Passes_Made_Under_Pressure_per_90'] = player['Passes_Made_Under_Pressure']/player['Nineties']\n",
    "    final = player[['Player','Squad']]\n",
    "    cols = player.columns[2:].to_list()\n",
    "    for col in cols:\n",
    "        final[col]= (player[col]-player[col].mean())/player[col].std(ddof=0)\n",
    "        final[col] = (final[col]-final[col].min())/(final[col].max()-final[col].min()) * 100\n",
    "    final['BPA'] = final['Nineties']*0.1 + final['xA_per_90'] * 0.05 + final['Pass_Completion_Percent'] * 0.15 + final['Completed_Passes_into_Att_Third_90'] * 0.15 + final['Passes_Made_Under_Pressure_per_90'] * 0.1 + final['Shot_Creating_Actions_per_90']*0.1 + final['Successful_Dribbles_Percent']*0.05 + final['Total_Pass_Progressive_Distance_per_90'] * 0.15 + final['Progressive_Distance_of_Carries_per_90']*0.15\n",
    "    final['BPA'] = final['BPA'].rank(pct=True)*100\n",
    "    present = final[['Player','Squad','BPA']]\n",
    "    return present"
   ]
  },
  {
   "cell_type": "code",
   "execution_count": 6,
   "metadata": {},
   "outputs": [],
   "source": [
    "def get_aerial(player_lst):\n",
    "    query = f\"SELECT Player,Squad ,Nineties,Aerial_Duels_Won_Percent,Aerial_Duels_Won,Aerial_Duels_Lost, Passes_Made_With_Head, xG_per_90 FROM Players_Data WHERE player in{player_lst}\"\n",
    "    player = pd.read_sql(query,conn)\n",
    "    player = player[player['Nineties'] > 20]\n",
    "    player['Passes_Made_With_Head_per_90'] = player['Passes_Made_With_Head']/player['Nineties']\n",
    "    player['Aerial_Duels'] = player[['Aerial_Duels_Won','Aerial_Duels_Lost']].sum(axis=1)\n",
    "    player.drop(['Passes_Made_With_Head','Aerial_Duels_Won','Aerial_Duels_Lost'],axis=1,inplace=True)\n",
    "    final = player[['Player','Squad']]\n",
    "    cols = player.columns[2:].to_list()\n",
    "    for col in cols:\n",
    "        final[col]= (player[col]-player[col].mean())/player[col].std(ddof=0)\n",
    "        final[col] = (final[col]-final[col].min())/(final[col].max()-final[col].min()) * 100\n",
    "    final['Aerial'] = final['Nineties'] * 0.1 + final['Aerial_Duels_Won_Percent'] * 0.4 + final['Aerial_Duels'] *0.3 + final['Passes_Made_With_Head_per_90']*0.05 + final['xG_per_90'] * 0.15\n",
    "    final['Aerial'] = final['Aerial'].rank(pct=True)*100\n",
    "    present = final[['Player','Squad','Aerial']]\n",
    "    return present"
   ]
  },
  {
   "cell_type": "code",
   "execution_count": 7,
   "metadata": {},
   "outputs": [
    {
     "ename": "NameError",
     "evalue": "name 'df' is not defined",
     "output_type": "error",
     "traceback": [
      "\u001b[1;31m---------------------------------------------------------------------------\u001b[0m",
      "\u001b[1;31mNameError\u001b[0m                                 Traceback (most recent call last)",
      "\u001b[1;32mc:\\Users\\limwe\\OneDrive\\Documents\\Computing Projects\\Sports Analytics\\Visualisations\\Def_Ternary.ipynb Cell 8'\u001b[0m in \u001b[0;36m<cell line: 1>\u001b[1;34m()\u001b[0m\n\u001b[1;32m----> <a href='vscode-notebook-cell:/c%3A/Users/limwe/OneDrive/Documents/Computing%20Projects/Sports%20Analytics/Visualisations/Def_Ternary.ipynb#ch0000015?line=0'>1</a>\u001b[0m df\n",
      "\u001b[1;31mNameError\u001b[0m: name 'df' is not defined"
     ]
    }
   ],
   "source": [
    "df"
   ]
  },
  {
   "cell_type": "code",
   "execution_count": 297,
   "metadata": {},
   "outputs": [],
   "source": [
    "df = ft.reduce(lambda left, right: pd.merge(left, right, on=['Player','Squad']), [get_defensive_ability(player_lst),get_bpa(player_lst),get_aerial(player_lst)])\n",
    "cols = ['Def','BPA','Aerial']\n",
    "for col in cols:\n",
    "    df[col[0]] = df[col] * 100 / df[cols].sum(axis=1) #normalize"
   ]
  },
  {
   "cell_type": "code",
   "execution_count": null,
   "metadata": {},
   "outputs": [],
   "source": [
    "#Styles\n",
    "bg_color = '#EEE0CB'\n",
    "edge_color = 'black'\n",
    "edge_color = {'l':edge_color,'r':edge_color,'b':edge_color}\n",
    "point_color = '#280003'\n",
    "corner_color = 'black'\n",
    "title_color = 'black'\n",
    "corner_size = 15\n",
    "title_size = 35\n",
    "title_font = 'Helvetica'\n",
    "player_size = 10\n",
    "player_color = '#C2847A'\n",
    "point_size = 15\n",
    "\n",
    "#figure\n",
    "fig, ax = plt.subplots()\n",
    "ax.axis('off')\n",
    "fig.set_size_inches(20,16)\n",
    "fig.patch.set_facecolor(bg_color)\n",
    "\n",
    "#ternary\n",
    "figure, tax = ternary.figure(ax=ax,scale=100)\n",
    "tax.set_background_color(bg_color)\n",
    "tax.boundary(axes_colors=edge_color)\n",
    "tax.scatter(df[['D','B','A']].values,c=point_color,s=point_size)\n",
    "\n",
    "#labels\n",
    "names = []\n",
    "for i,txt in enumerate(df['Player'].tolist()):\n",
    "    x = ternary.project_point((df['D'].iloc[i],df['B'].iloc[i],df['A'].iloc[i]))[0]\n",
    "    y = ternary.project_point((df['D'].iloc[i],df['B'].iloc[i],df['A'].iloc[i]))[1]\n",
    "    names.append(plt.text(x,y,txt,c=player_color,fontsize=player_size))\n",
    "adjust_text(names,arrowprops=dict(arrowstyle=\"-\", color='k', lw=0.5))\n",
    "\n",
    "#corner\n",
    "tax.right_corner_label('Defensive Ability',position=(0.97,0.11),c=corner_color,fontsize= corner_size)\n",
    "tax.top_corner_label('Ball-Playing Ability',offset=0.15,c=corner_color,fontsize= corner_size)\n",
    "tax.left_corner_label('Aerial Ability',position=(-0.07,0.11),c=corner_color,fontsize= corner_size)\n",
    "\n",
    "\n",
    "#padding\n",
    "\n",
    "\n",
    "#title\n",
    "#fig.text(0.075,0.95,'The Modern Centre Back',ha='left',fontsize =title_size,c=title_color,fontfamily=title_font)"
   ]
  },
  {
   "cell_type": "code",
   "execution_count": null,
   "metadata": {},
   "outputs": [],
   "source": [
    "df = ft.reduce(lambda left, right: pd.merge(left, right, on=['Player','Squad']), [get_defensive_ability(player_lst),get_bpa(player_lst),get_aerial(player_lst)])"
   ]
  },
  {
   "cell_type": "code",
   "execution_count": 337,
   "metadata": {},
   "outputs": [
    {
     "data": {
      "text/plain": [
       "0.7071067811865475"
      ]
     },
     "execution_count": 337,
     "metadata": {},
     "output_type": "execute_result"
    }
   ],
   "source": [
    "1/math.sqrt(2)"
   ]
  },
  {
   "cell_type": "code",
   "execution_count": 380,
   "metadata": {},
   "outputs": [
    {
     "data": {
      "text/plain": [
       "<matplotlib.patches.Rectangle at 0x279d8059b10>"
      ]
     },
     "execution_count": 380,
     "metadata": {},
     "output_type": "execute_result"
    },
    {
     "data": {
      "image/png": "[encoded data removed]",
      "text/plain": [
       "<Figure size 432x288 with 1 Axes>"
      ]
     },
     "metadata": {
      "needs_background": "light"
     },
     "output_type": "display_data"
    }
   ],
   "source": [
    "fig,axs =plt.subplots()\n",
    "rect = patches.Rectangle((0.5,0),0.2,0.2,angle=45,facecolor='none',edgecolor='black')\n",
    "axs.add_patch(rect)\n"
   ]
  },
  {
   "cell_type": "code",
   "execution_count": 12,
   "metadata": {},
   "outputs": [
    {
     "ename": "NameError",
     "evalue": "name 'df' is not defined",
     "output_type": "error",
     "traceback": [
      "\u001b[1;31m---------------------------------------------------------------------------\u001b[0m",
      "\u001b[1;31mNameError\u001b[0m                                 Traceback (most recent call last)",
      "\u001b[1;32mc:\\Users\\limwe\\OneDrive\\Documents\\Computing Projects\\Sports Analytics\\Visualisations\\Def_Ternary.ipynb Cell 15'\u001b[0m in \u001b[0;36m<cell line: 30>\u001b[1;34m()\u001b[0m\n\u001b[0;32m     <a href='vscode-notebook-cell:/c%3A/Users/limwe/OneDrive/Documents/Computing%20Projects/Sports%20Analytics/Visualisations/Def_Ternary.ipynb#ch0000012?line=27'>28</a>\u001b[0m fig\u001b[39m.\u001b[39mset_size_inches(\u001b[39m10\u001b[39m,\u001b[39m10\u001b[39m)\n\u001b[0;32m     <a href='vscode-notebook-cell:/c%3A/Users/limwe/OneDrive/Documents/Computing%20Projects/Sports%20Analytics/Visualisations/Def_Ternary.ipynb#ch0000012?line=28'>29</a>\u001b[0m ax1\u001b[39m.\u001b[39mset_aspect(\u001b[39m'\u001b[39m\u001b[39mequal\u001b[39m\u001b[39m'\u001b[39m, \u001b[39m'\u001b[39m\u001b[39mbox\u001b[39m\u001b[39m'\u001b[39m)\n\u001b[1;32m---> <a href='vscode-notebook-cell:/c%3A/Users/limwe/OneDrive/Documents/Computing%20Projects/Sports%20Analytics/Visualisations/Def_Ternary.ipynb#ch0000012?line=29'>30</a>\u001b[0m aux_ax1\u001b[39m.\u001b[39mscatter(df[\u001b[39m'\u001b[39m\u001b[39mDef\u001b[39m\u001b[39m'\u001b[39m],df[\u001b[39m'\u001b[39m\u001b[39mBPA\u001b[39m\u001b[39m'\u001b[39m])\n\u001b[0;32m     <a href='vscode-notebook-cell:/c%3A/Users/limwe/OneDrive/Documents/Computing%20Projects/Sports%20Analytics/Visualisations/Def_Ternary.ipynb#ch0000012?line=30'>31</a>\u001b[0m ax1\u001b[39m.\u001b[39mgrid(color\u001b[39m=\u001b[39m\u001b[39m'\u001b[39m\u001b[39mr\u001b[39m\u001b[39m'\u001b[39m, linestyle\u001b[39m=\u001b[39m\u001b[39m'\u001b[39m\u001b[39m-\u001b[39m\u001b[39m'\u001b[39m, linewidth\u001b[39m=\u001b[39m\u001b[39m0.5\u001b[39m)\n",
      "\u001b[1;31mNameError\u001b[0m: name 'df' is not defined"
     ]
    },
    {
     "data": {
      "image/png": "[encoded data removed]",
      "text/plain": [
       "<Figure size 720x720 with 1 Axes>"
      ]
     },
     "metadata": {},
     "output_type": "display_data"
    }
   ],
   "source": [
    "def setup_axes1(fig, rect):\n",
    "\n",
    "    tr = Affine2D().scale(2, 2).rotate_deg(45)\n",
    "\n",
    "    grid_helper = floating_axes.GridHelperCurveLinear(\n",
    "        tr, extremes=(0, 110, 0, 110))\n",
    "\n",
    "    ax1 = floating_axes.FloatingSubplot(fig, rect, grid_helper=grid_helper)\n",
    "    fig.add_subplot(ax1)\n",
    "\n",
    "    aux_ax = ax1.get_aux_axes(tr)\n",
    "    # for key in ax1.axis:\n",
    "    #     ax1.axis[key].set_visible(False)\n",
    "    return ax1, aux_ax\n",
    "\n",
    "\n",
    "#Styles\n",
    "bg_color = '#EEE0CB'\n",
    "\n",
    "\n",
    "#figure\n",
    "fig = plt.figure()\n",
    "fig.set_size_inches(20,16)\n",
    "fig.patch.set_facecolor(bg_color)\n",
    "ax1, aux_ax1 = setup_axes1(fig, 111)\n",
    "\n",
    "ax1.set_facecolor(bg_color)\n",
    "fig.set_size_inches(10,10)\n",
    "ax1.set_aspect('equal', 'box')\n",
    "aux_ax1.scatter(df['Def'],df['BPA'])\n",
    "ax1.grid(color='r', linestyle='-', linewidth=0.5)\n"
   ]
  },
  {
   "cell_type": "code",
   "execution_count": 368,
   "metadata": {},
   "outputs": [
    {
     "ename": "AttributeError",
     "evalue": "'AxisArtist' object has no attribute 'ticks'",
     "output_type": "error",
     "traceback": [
      "\u001b[1;31m---------------------------------------------------------------------------\u001b[0m",
      "\u001b[1;31mAttributeError\u001b[0m                            Traceback (most recent call last)",
      "\u001b[1;32mc:\\Users\\limwe\\OneDrive\\Documents\\Computing Projects\\Sports Analytics\\Visualisations\\Def_Ternary.ipynb Cell 13'\u001b[0m in \u001b[0;36m<cell line: 1>\u001b[1;34m()\u001b[0m\n\u001b[1;32m----> <a href='vscode-notebook-cell:/c%3A/Users/limwe/OneDrive/Documents/Computing%20Projects/Sports%20Analytics/Visualisations/Def_Ternary.ipynb#ch0000049?line=0'>1</a>\u001b[0m ax1\u001b[39m.\u001b[39;49maxis[\u001b[39m'\u001b[39;49m\u001b[39mtop\u001b[39;49m\u001b[39m'\u001b[39;49m]\u001b[39m.\u001b[39;49mticks\n",
      "\u001b[1;31mAttributeError\u001b[0m: 'AxisArtist' object has no attribute 'ticks'"
     ]
    }
   ],
   "source": [
    "ax1.axis['top'].aix"
   ]
  },
  {
   "cell_type": "code",
   "execution_count": null,
   "metadata": {},
   "outputs": [],
   "source": []
  }
 ],
 "metadata": {
  "interpreter": {
   "hash": "0013bfa180d8f2073813a11c26de2c2260168e93abedd0fce5e1f82afdda5447"
  },
  "kernelspec": {
   "display_name": "Python 3.10.4 ('sports')",
   "language": "python",
   "name": "python3"
  },
  "language_info": {
   "codemirror_mode": {
    "name": "ipython",
    "version": 3
   },
   "file_extension": ".py",
   "mimetype": "text/x-python",
   "name": "python",
   "nbconvert_exporter": "python",
   "pygments_lexer": "ipython3",
   "version": "3.10.4"
  },
  "orig_nbformat": 4
 },
 "nbformat": 4,
 "nbformat_minor": 2
}
